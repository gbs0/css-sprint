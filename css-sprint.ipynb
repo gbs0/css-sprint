{
 "cells": [
  {
   "cell_type": "markdown",
   "metadata": {},
   "source": [
    "## Avatar Design"
   ]
  },
  {
   "cell_type": "code",
   "execution_count": null,
   "metadata": {},
   "outputs": [],
   "source": [
    "<h2>Avatar design</h2>\n",
    "      <img src=\"http://placehold.it/50x50\" alt=\"\" class=\"avatar\">\n",
    "      <img src=\"http://placehold.it/50x50\" alt=\"\" class=\"avatar-small\">"
   ]
  },
  {
   "cell_type": "code",
   "execution_count": 2,
   "metadata": {},
   "outputs": [],
   "source": [
    ".avatar {\n",
    "  border-radius: 50%;\n",
    "  width: 50px;\n",
    "}\n",
    "\n",
    ".avatar-small {\n",
    "  border-radius: 50%;\n",
    "  width: 30px;\n",
    "}"
   ]
  },
  {
   "cell_type": "markdown",
   "metadata": {},
   "source": []
  },
  {
   "cell_type": "markdown",
   "metadata": {},
   "source": [
    "### Button Design"
   ]
  },
  {
   "cell_type": "code",
   "execution_count": null,
   "metadata": {},
   "outputs": [],
   "source": [
    "<h2>Button design</h2>\n",
    "      <a href=\"#\" class=\"btn-medium\">Write stories</a>\n",
    "      <a href=\"#\" class=\"btn-treehouse\">Start now</a>"
   ]
  },
  {
   "cell_type": "code",
   "execution_count": 2,
   "metadata": {},
   "outputs": [],
   "source": [
    ".avatar {\n",
    "  border-radius: 50%;\n",
    "  width: 50px;\n",
    "}\n",
    "\n",
    ".avatar-small {\n",
    "  border-radius: 50%;\n",
    "  width: 30px;\n",
    "}"
   ]
  }
 ],
 "metadata": {
  "kernelspec": {
   "display_name": "Ruby 2.6.2",
   "language": "ruby",
   "name": "ruby"
  },
  "language_info": {
   "file_extension": ".rb",
   "mimetype": "application/x-ruby",
   "name": "ruby",
   "version": "2.6.2"
  },
  "toc": {
   "nav_menu": {},
   "number_sections": true,
   "sideBar": true,
   "skip_h1_title": false,
   "toc_cell": false,
   "toc_position": {},
   "toc_section_display": "block",
   "toc_window_display": false
  }
 },
 "nbformat": 4,
 "nbformat_minor": 2
}
