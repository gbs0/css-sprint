{
 "cells": [
  {
   "cell_type": "markdown",
   "metadata": {},
   "source": [
    "## Avatar Design"
   ]
  },
  {
   "cell_type": "code",
   "execution_count": null,
   "metadata": {},
   "outputs": [],
   "source": [
    "<h2>Avatar design</h2>\n",
    "      <img src=\"http://placehold.it/50x50\" alt=\"\" class=\"avatar\">\n",
    "      <img src=\"http://placehold.it/50x50\" alt=\"\" class=\"avatar-small\">"
   ]
  },
  {
   "cell_type": "code",
   "execution_count": 2,
   "metadata": {},
   "outputs": [],
   "source": [
    ".avatar {\n",
    "  border-radius: 50%;\n",
    "  width: 50px;\n",
    "}\n",
    "\n",
    ".avatar-small {\n",
    "  border-radius: 50%;\n",
    "  width: 30px;\n",
    "}"
   ]
  },
  {
   "cell_type": "markdown",
   "metadata": {},
   "source": [
    "## Button Design"
   ]
  },
  {
   "cell_type": "code",
   "execution_count": null,
   "metadata": {},
   "outputs": [],
   "source": [
    "<h2>Button design</h2>\n",
    "      <a href=\"#\" class=\"btn-medium\">Write stories</a>\n",
    "      <a href=\"#\" class=\"btn-treehouse\">Start now</a>"
   ]
  },
  {
   "cell_type": "code",
   "execution_count": 2,
   "metadata": {},
   "outputs": [],
   "source": [
    ".btn-medium {\n",
    "  color: #999999;\n",
    "  border: 1px solid #999999;\n",
    "  padding: 10px 15px;\n",
    "  border-radius: 50px;\n",
    "  font-weight: lighter;\n",
    "  opacity: 0.6;\n",
    "}\n",
    "\n",
    ".btn-medium:hover {\n",
    "  opacity: 1;\n",
    "  text-decoration: none;\n",
    "  color: #999999;\n",
    "}\n",
    "\n",
    ".btn-treehouse {\n",
    "  color: white;\n",
    "  padding: 10px 15px;\n",
    "  border-radius: 4px;\n",
    "  font-weight: bold;\n",
    "  background: #6AD58B;\n",
    "}\n",
    "\n",
    ".btn-treehouse:hover {\n",
    "  opacity: 1;\n",
    "  background: #6AD58B;\n",
    "  text-decoration: none;\n",
    "  color: white;\n",
    "}"
   ]
  },
  {
   "cell_type": "markdown",
   "metadata": {},
   "source": [
    "## Dropdown Design"
   ]
  },
  {
   "cell_type": "code",
   "execution_count": null,
   "metadata": {},
   "outputs": [],
   "source": [
    "<h2>Dropdown design</h2>\n",
    "        <div class=\"dropdown\">\n",
    "          <img src=\"http://placehold.it/50x50\" class=\"avatar dropdown-toggle\" data-toggle=\"dropdown\">\n",
    "          <ul class=\"dropdown-menu\">\n",
    "            <li><a href=\"#\">Profile</a></li>\n",
    "            <li><a href=\"#\">Dashboard</a></li>\n",
    "            <li><a href=\"#\">Logout</a></li>\n",
    "          </ul>\n",
    "        </div>"
   ]
  },
  {
   "cell_type": "code",
   "execution_count": 2,
   "metadata": {},
   "outputs": [],
   "source": [
    ".dropdown-menu a {\n",
    "  font-weight: lighter !important;\n",
    "}\n"
   ]
  },
  {
   "cell_type": "markdown",
   "metadata": {},
   "source": [
    "## Card Design"
   ]
  },
  {
   "cell_type": "code",
   "execution_count": null,
   "metadata": {},
   "outputs": [],
   "source": [
    "<h2>Card design</h2>\n",
    "      <div class=\"row\">\n",
    "        <div class=\"col-xs-12 col-sm-4\">\n",
    "          <div class=\"card\">\n",
    "            <img src=\"http://placehold.it/50x50\" class=\"avatar card-user\">\n",
    "            <span class=\"card-category\">POPULAR</span>\n",
    "            <div class=\"card-description\">\n",
    "              <h3>Stripe</h3>\n",
    "              <p>A cool payment API</p>\n",
    "            </div>\n",
    "          </div>\n",
    "        </div>"
   ]
  },
  {
   "cell_type": "code",
   "execution_count": 2,
   "metadata": {},
   "outputs": [],
   "source": [
    ".card {\n",
    "  position: relative;\n",
    "  height: 250px;\n",
    "  background: linear-gradient(-225deg, rgba(30,30,30,0.6) 30%, rgba(46,46,46,0.5) 80%), url(\"http://unsplash.it/400/300/?=landscape\");\n",
    "  background-size: cover;\n",
    "  color: white;\n",
    "}\n",
    "\n",
    ".card-user {\n",
    "  position: absolute;\n",
    "  top: 10px;\n",
    "  right: 20px;\n",
    "}\n",
    ".card-category {\n",
    "  position: absolute;\n",
    "  top: 20px;\n",
    "  left: 13px;\n",
    "}\n",
    ".card-description {\n",
    "  position: absolute;\n",
    "  bottom: 8px;\n",
    "  left: 20px;\n",
    "}"
   ]
  },
  {
   "cell_type": "markdown",
   "metadata": {},
   "source": [
    "## Banner Design"
   ]
  },
  {
   "cell_type": "code",
   "execution_count": null,
   "metadata": {},
   "outputs": [],
   "source": [
    "<h2>Banner design</h2>\n",
    "      <div class=\"banner\">\n",
    "        <div class=\"banner-content\">\n",
    "          <h1>Stripe</h1>\n",
    "          <p>A cool payment API</p>\n",
    "          <a href=\"#\" class=\"btn-treehouse\">Start now</a>\n",
    "        </div>\n",
    "      </div>"
   ]
  },
  {
   "cell_type": "code",
   "execution_count": 2,
   "metadata": {},
   "outputs": [],
   "source": [
    ".avatar {\n",
    "  border-radius: 50%;\n",
    "  width: 50px;\n",
    "}\n",
    "\n",
    ".avatar-small {\n",
    "  border-radius: 50%;\n",
    "  width: 30px;\n",
    "}"
   ]
  },
  {
   "cell_type": "markdown",
   "metadata": {},
   "source": [
    "## Avatar Design"
   ]
  },
  {
   "cell_type": "code",
   "execution_count": null,
   "metadata": {},
   "outputs": [],
   "source": [
    "<h2>Avatar design</h2>\n",
    "      <img src=\"http://placehold.it/50x50\" alt=\"\" class=\"avatar\">\n",
    "      <img src=\"http://placehold.it/50x50\" alt=\"\" class=\"avatar-small\">"
   ]
  },
  {
   "cell_type": "code",
   "execution_count": 2,
   "metadata": {},
   "outputs": [],
   "source": [
    ".avatar {\n",
    "  border-radius: 50%;\n",
    "  width: 50px;\n",
    "}\n",
    "\n",
    ".avatar-small {\n",
    "  border-radius: 50%;\n",
    "  width: 30px;\n",
    "}"
   ]
  },
  {
   "cell_type": "markdown",
   "metadata": {},
   "source": [
    "## Avatar Design"
   ]
  },
  {
   "cell_type": "code",
   "execution_count": null,
   "metadata": {},
   "outputs": [],
   "source": [
    "<h2>Avatar design</h2>\n",
    "      <img src=\"http://placehold.it/50x50\" alt=\"\" class=\"avatar\">\n",
    "      <img src=\"http://placehold.it/50x50\" alt=\"\" class=\"avatar-small\">"
   ]
  },
  {
   "cell_type": "code",
   "execution_count": 2,
   "metadata": {},
   "outputs": [],
   "source": [
    ".avatar {\n",
    "  border-radius: 50%;\n",
    "  width: 50px;\n",
    "}\n",
    "\n",
    ".avatar-small {\n",
    "  border-radius: 50%;\n",
    "  width: 30px;\n",
    "}"
   ]
  },
  {
   "cell_type": "markdown",
   "metadata": {},
   "source": [
    "## Avatar Design"
   ]
  },
  {
   "cell_type": "code",
   "execution_count": null,
   "metadata": {},
   "outputs": [],
   "source": [
    "<h2>Avatar design</h2>\n",
    "      <img src=\"http://placehold.it/50x50\" alt=\"\" class=\"avatar\">\n",
    "      <img src=\"http://placehold.it/50x50\" alt=\"\" class=\"avatar-small\">"
   ]
  },
  {
   "cell_type": "code",
   "execution_count": 2,
   "metadata": {},
   "outputs": [],
   "source": [
    ".avatar {\n",
    "  border-radius: 50%;\n",
    "  width: 50px;\n",
    "}\n",
    "\n",
    ".avatar-small {\n",
    "  border-radius: 50%;\n",
    "  width: 30px;\n",
    "}"
   ]
  }
 ],
 "metadata": {
  "kernelspec": {
   "display_name": "Ruby 2.6.2",
   "language": "ruby",
   "name": "ruby"
  },
  "language_info": {
   "file_extension": ".rb",
   "mimetype": "application/x-ruby",
   "name": "ruby",
   "version": "2.6.2"
  },
  "toc": {
   "nav_menu": {},
   "number_sections": true,
   "sideBar": true,
   "skip_h1_title": false,
   "toc_cell": false,
   "toc_position": {},
   "toc_section_display": "block",
   "toc_window_display": false
  }
 },
 "nbformat": 4,
 "nbformat_minor": 2
}
